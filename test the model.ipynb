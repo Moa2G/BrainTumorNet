{
 "cells": [
  {
   "cell_type": "code",
   "execution_count": 1,
   "id": "90b928ea-c52a-41ab-8cc0-2b0cd72ad43b",
   "metadata": {},
   "outputs": [],
   "source": [
    "import pickle\n",
    "import numpy as np\n",
    "import cv2\n",
    "from tensorflow.keras.preprocessing.image import load_img, img_to_array\n",
    "import os\n",
    "from tqdm import tqdm\n",
    "import matplotlib.pyplot as plt"
   ]
  },
  {
   "cell_type": "code",
   "execution_count": 2,
   "id": "fb346db2-dfc3-4254-80f0-b80c1ab7cc9d",
   "metadata": {},
   "outputs": [],
   "source": [
    "with open('Brain Tumor MRI','rb') as f:\n",
    "    model=pickle.load(f)"
   ]
  },
  {
   "cell_type": "code",
   "execution_count": 3,
   "id": "4076e3a6-3a3c-4f1d-81c3-4122b24fd9d6",
   "metadata": {},
   "outputs": [],
   "source": [
    "def extract_image(path):\n",
    "    img = load_img(path, target_size=(180, 180))\n",
    "    img_array = img_to_array(img)\n",
    "    img_array = np.expand_dims(img_array, axis=0)\n",
    "    img_array = img_array.astype('float32') / 255.0 \n",
    "    return img_array"
   ]
  },
  {
   "cell_type": "code",
   "execution_count": 4,
   "id": "23b3f6c3-6fe9-453a-ab7e-e4c6044d37b2",
   "metadata": {},
   "outputs": [],
   "source": [
    "labels=['glioma','meningioma','notumor','pituitary']"
   ]
  },
  {
   "cell_type": "code",
   "execution_count": 7,
   "id": "108d7023-e813-4972-9f42-28e2bb3cbc5b",
   "metadata": {},
   "outputs": [
    {
     "name": "stdout",
     "output_type": "stream",
     "text": [
      "Selected image: D:/download/download (7).jpeg\n",
      "Stored file path: D:/download/download (7).jpeg\n"
     ]
    }
   ],
   "source": [
    "import tkinter as tk\n",
    "from tkinter import filedialog\n",
    "\n",
    "def open_image_file():\n",
    "    global file_path\n",
    "    file_path = filedialog.askopenfilename(\n",
    "        title=\"Select an Image File\",\n",
    "        filetypes=[(\"Image Files\", \"*.png;*.jpg;*.jpeg;*.bmp;*.gif\"),\n",
    "                   (\"All Files\", \"*.*\")]\n",
    "    )\n",
    "    if file_path:\n",
    "        print(f\"Selected image: {file_path}\")\n",
    "root = tk.Tk()\n",
    "root.title(\"Image File Selector\")\n",
    "root.geometry(\"300x150\")\n",
    "button = tk.Button(root, text=\"Select Image\", command=open_image_file)\n",
    "button.pack(pady=20)\n",
    "root.mainloop()\n",
    "try:\n",
    "    print(f\"Stored file path: {file_path}\") \n",
    "except NameError:\n",
    "    print(\"No file was selected.\")\n"
   ]
  },
  {
   "cell_type": "code",
   "execution_count": 8,
   "id": "9bfa164a-2689-4553-9f82-9f8bb61f08a6",
   "metadata": {},
   "outputs": [
    {
     "name": "stdout",
     "output_type": "stream",
     "text": [
      "\u001b[1m1/1\u001b[0m \u001b[32m━━━━━━━━━━━━━━━━━━━━\u001b[0m\u001b[37m\u001b[0m \u001b[1m0s\u001b[0m 111ms/step\n",
      "pituitary\n"
     ]
    }
   ],
   "source": [
    "image=extract_image(file_path)\n",
    "predict=model.predict(image)\n",
    "print(labels[np.argmax(predict)])"
   ]
  },
  {
   "cell_type": "code",
   "execution_count": null,
   "id": "f4fcd713-a9bc-4189-bf2f-3c6d23d8312d",
   "metadata": {},
   "outputs": [],
   "source": []
  }
 ],
 "metadata": {
  "kernelspec": {
   "display_name": "Python 3 (ipykernel)",
   "language": "python",
   "name": "python3"
  },
  "language_info": {
   "codemirror_mode": {
    "name": "ipython",
    "version": 3
   },
   "file_extension": ".py",
   "mimetype": "text/x-python",
   "name": "python",
   "nbconvert_exporter": "python",
   "pygments_lexer": "ipython3",
   "version": "3.11.9"
  }
 },
 "nbformat": 4,
 "nbformat_minor": 5
}
